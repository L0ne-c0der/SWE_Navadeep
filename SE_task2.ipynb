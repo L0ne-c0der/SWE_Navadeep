{
  "nbformat": 4,
  "nbformat_minor": 0,
  "metadata": {
    "colab": {
      "provenance": [],
      "authorship_tag": "ABX9TyPgXpsQ2BnUfpmB4k6/M/fd",
      "include_colab_link": true
    },
    "kernelspec": {
      "name": "python3",
      "display_name": "Python 3"
    },
    "language_info": {
      "name": "python"
    }
  },
  "cells": [
    {
      "cell_type": "markdown",
      "metadata": {
        "id": "view-in-github",
        "colab_type": "text"
      },
      "source": [
        "<a href=\"https://colab.research.google.com/github/L0ne-c0der/SWE_Navadeep/blob/main/SE_task2.ipynb\" target=\"_parent\"><img src=\"https://colab.research.google.com/assets/colab-badge.svg\" alt=\"Open In Colab\"/></a>"
      ]
    },
    {
      "cell_type": "code",
      "source": [
        "#function to find the volume of the cylinder\n",
        "def cylinderVol(radius, height):\n",
        "    volume = 3.14*radius*radius*height\n",
        "    return round(volume)"
      ],
      "metadata": {
        "id": "h60_V0Z6xCtL"
      },
      "execution_count": null,
      "outputs": []
    },
    {
      "cell_type": "code",
      "execution_count": null,
      "metadata": {
        "colab": {
          "base_uri": "https://localhost:8080/"
        },
        "id": "y_NiB3vVqUAW",
        "outputId": "f637a48a-636b-40ea-9f35-7a5f1a775e26"
      },
      "outputs": [
        {
          "output_type": "stream",
          "name": "stdout",
          "text": [
            "Hardcoded variables\n",
            "The volume of the cylinder with dimensions 10 cm and 20 cm is 6280 cm^2\n"
          ]
        }
      ],
      "source": [
        "#Hardcoded variables\n",
        "#Entering the length and width of the rectangle\n",
        "rad =10\n",
        "h = 20\n",
        "print(\"Hardcoded variables\")\n",
        "print(f\"The volume of the cylinder with dimensions {rad} cm and {h} cm is {cylinderVol(rad,h)} cm^2\")"
      ]
    },
    {
      "cell_type": "code",
      "source": [
        "#taking the input from keyboard\n",
        "rad_input = int(input(\"Enter the radius of the cylinder: \"))\n",
        "h_input = int(input(\"Enter the height of the cylinder:\"))\n",
        "\n",
        "print(f\"The volume of the cylinder with dimensions {rad_input} cm and {h_input} cm is {cylinderVol(rad_input,h_input)} cm^2\")"
      ],
      "metadata": {
        "colab": {
          "base_uri": "https://localhost:8080/"
        },
        "id": "_ZZdbkQSuWbB",
        "outputId": "8618fe1c-bd2d-4cbb-fefe-9c6541d775a3"
      },
      "execution_count": null,
      "outputs": [
        {
          "output_type": "stream",
          "name": "stdout",
          "text": [
            "Enter the radius of the cylinder: 10\n",
            "Enter the height of the cylinder:15\n",
            "The volume of the cylinder with dimensions 10 cm and 15 cm is 4710 cm^2\n"
          ]
        }
      ]
    },
    {
      "cell_type": "code",
      "source": [
        "#read file cylinder_dimensions\n",
        "def read_from_file(filename):\n",
        "    with open(filename, 'r') as f:\n",
        "        lines = f.readlines()\n",
        "        coefficients = [tuple(map(float, line.strip().split(','))) for line in lines]\n",
        "    return coefficients"
      ],
      "metadata": {
        "id": "fmtWXObgyfHo"
      },
      "execution_count": null,
      "outputs": []
    },
    {
      "cell_type": "code",
      "source": [
        "coefficients = read_from_file('cylinder_dimensions.txt')\n",
        "rad1 , h1 = coefficients[0]\n",
        "print(f\"The volume of the cylinder with dimensions {rad1} cm and {h1} cm is {cylinderVol(rad1,h1)} cm^2\")"
      ],
      "metadata": {
        "colab": {
          "base_uri": "https://localhost:8080/"
        },
        "id": "VKbUecuw00KY",
        "outputId": "1633fbe2-7d95-4f62-91dd-5a496c081ef9"
      },
      "execution_count": null,
      "outputs": [
        {
          "output_type": "stream",
          "name": "stdout",
          "text": [
            "The volume of the cylinder with dimensions 10.0 cm and 30.0 cm is 9420 cm^2\n"
          ]
        }
      ]
    },
    {
      "cell_type": "code",
      "source": [
        "for idx, (rad1, h1) in enumerate(coefficients):\n",
        "  volume = cylinderVol(rad1, h1)\n",
        "  print(f\"The volume of the cylinder with dimensions {rad1} cm and {h1} cm is {volume} cm^2\")\n"
      ],
      "metadata": {
        "colab": {
          "base_uri": "https://localhost:8080/"
        },
        "id": "HupQ9xkn1FOS",
        "outputId": "192f92dd-cf12-49ad-8a45-4b9b319fa20f"
      },
      "execution_count": null,
      "outputs": [
        {
          "output_type": "stream",
          "name": "stdout",
          "text": [
            "The volume of the cylinder with dimensions 10.0 cm and 30.0 cm is 9420 cm^2\n",
            "The volume of the cylinder with dimensions 40.0 cm and 60.0 cm is 301440 cm^2\n",
            "The volume of the cylinder with dimensions 5.0 cm and 20.0 cm is 1570 cm^2\n"
          ]
        }
      ]
    }
  ]
}